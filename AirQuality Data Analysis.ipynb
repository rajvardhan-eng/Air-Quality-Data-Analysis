{
 "cells": [
  {
   "cell_type": "code",
   "execution_count": 70,
   "metadata": {},
   "outputs": [
    {
     "data": {
      "text/html": [
       "<div>\n",
       "<style scoped>\n",
       "    .dataframe tbody tr th:only-of-type {\n",
       "        vertical-align: middle;\n",
       "    }\n",
       "\n",
       "    .dataframe tbody tr th {\n",
       "        vertical-align: top;\n",
       "    }\n",
       "\n",
       "    .dataframe thead th {\n",
       "        text-align: right;\n",
       "    }\n",
       "</style>\n",
       "<table border=\"1\" class=\"dataframe\">\n",
       "  <thead>\n",
       "    <tr style=\"text-align: right;\">\n",
       "      <th></th>\n",
       "      <th>Site</th>\n",
       "      <th>Species</th>\n",
       "      <th>ReadingDateTime</th>\n",
       "      <th>Value</th>\n",
       "      <th>Units</th>\n",
       "      <th>Provisional or Ratified</th>\n",
       "    </tr>\n",
       "  </thead>\n",
       "  <tbody>\n",
       "    <tr>\n",
       "      <th>0</th>\n",
       "      <td>WM6</td>\n",
       "      <td>NO</td>\n",
       "      <td>01/01/2018 00:00</td>\n",
       "      <td>55.9</td>\n",
       "      <td>ug m-3</td>\n",
       "      <td>R</td>\n",
       "    </tr>\n",
       "    <tr>\n",
       "      <th>1</th>\n",
       "      <td>WM6</td>\n",
       "      <td>NO</td>\n",
       "      <td>01/01/2018 00:15</td>\n",
       "      <td>56.4</td>\n",
       "      <td>ug m-3</td>\n",
       "      <td>R</td>\n",
       "    </tr>\n",
       "    <tr>\n",
       "      <th>2</th>\n",
       "      <td>WM6</td>\n",
       "      <td>NO</td>\n",
       "      <td>01/01/2018 00:30</td>\n",
       "      <td>55.5</td>\n",
       "      <td>ug m-3</td>\n",
       "      <td>R</td>\n",
       "    </tr>\n",
       "    <tr>\n",
       "      <th>3</th>\n",
       "      <td>WM6</td>\n",
       "      <td>NO</td>\n",
       "      <td>01/01/2018 00:45</td>\n",
       "      <td>69.1</td>\n",
       "      <td>ug m-3</td>\n",
       "      <td>R</td>\n",
       "    </tr>\n",
       "    <tr>\n",
       "      <th>4</th>\n",
       "      <td>WM6</td>\n",
       "      <td>NO</td>\n",
       "      <td>01/01/2018 01:00</td>\n",
       "      <td>34.7</td>\n",
       "      <td>ug m-3</td>\n",
       "      <td>R</td>\n",
       "    </tr>\n",
       "    <tr>\n",
       "      <th>5</th>\n",
       "      <td>WM6</td>\n",
       "      <td>NO</td>\n",
       "      <td>01/01/2018 01:15</td>\n",
       "      <td>41.8</td>\n",
       "      <td>ug m-3</td>\n",
       "      <td>R</td>\n",
       "    </tr>\n",
       "    <tr>\n",
       "      <th>6</th>\n",
       "      <td>WM6</td>\n",
       "      <td>NO</td>\n",
       "      <td>01/01/2018 01:30</td>\n",
       "      <td>41.8</td>\n",
       "      <td>ug m-3</td>\n",
       "      <td>R</td>\n",
       "    </tr>\n",
       "    <tr>\n",
       "      <th>7</th>\n",
       "      <td>WM6</td>\n",
       "      <td>NO</td>\n",
       "      <td>01/01/2018 01:45</td>\n",
       "      <td>95.1</td>\n",
       "      <td>ug m-3</td>\n",
       "      <td>R</td>\n",
       "    </tr>\n",
       "    <tr>\n",
       "      <th>8</th>\n",
       "      <td>WM6</td>\n",
       "      <td>NO</td>\n",
       "      <td>01/01/2018 02:00</td>\n",
       "      <td>93.6</td>\n",
       "      <td>ug m-3</td>\n",
       "      <td>R</td>\n",
       "    </tr>\n",
       "    <tr>\n",
       "      <th>9</th>\n",
       "      <td>WM6</td>\n",
       "      <td>NO</td>\n",
       "      <td>01/01/2018 02:15</td>\n",
       "      <td>45.5</td>\n",
       "      <td>ug m-3</td>\n",
       "      <td>R</td>\n",
       "    </tr>\n",
       "  </tbody>\n",
       "</table>\n",
       "</div>"
      ],
      "text/plain": [
       "  Site Species   ReadingDateTime  Value   Units Provisional or Ratified\n",
       "0  WM6      NO  01/01/2018 00:00   55.9  ug m-3                       R\n",
       "1  WM6      NO  01/01/2018 00:15   56.4  ug m-3                       R\n",
       "2  WM6      NO  01/01/2018 00:30   55.5  ug m-3                       R\n",
       "3  WM6      NO  01/01/2018 00:45   69.1  ug m-3                       R\n",
       "4  WM6      NO  01/01/2018 01:00   34.7  ug m-3                       R\n",
       "5  WM6      NO  01/01/2018 01:15   41.8  ug m-3                       R\n",
       "6  WM6      NO  01/01/2018 01:30   41.8  ug m-3                       R\n",
       "7  WM6      NO  01/01/2018 01:45   95.1  ug m-3                       R\n",
       "8  WM6      NO  01/01/2018 02:00   93.6  ug m-3                       R\n",
       "9  WM6      NO  01/01/2018 02:15   45.5  ug m-3                       R"
      ]
     },
     "execution_count": 70,
     "metadata": {},
     "output_type": "execute_result"
    }
   ],
   "source": [
    "#importing libraries required for analysis\n",
    "\n",
    "import pandas as pd\n",
    "import numpy as np\n",
    "import matplotlib.pyplot as plt\n",
    "import seaborn as sns\n",
    "\n",
    "#Reading the data\n",
    "oxford_Data=pd.read_csv('LaqnData_OxfordRd_d.csv')\n",
    "oxford_Data.head(10) #display first 10 records"
   ]
  },
  {
   "cell_type": "code",
   "execution_count": 71,
   "metadata": {},
   "outputs": [
    {
     "data": {
      "text/plain": [
       "(140160, 6)"
      ]
     },
     "execution_count": 71,
     "metadata": {},
     "output_type": "execute_result"
    }
   ],
   "source": [
    "oxford_Data.shape #gives the dimension of the data"
   ]
  },
  {
   "cell_type": "code",
   "execution_count": 72,
   "metadata": {},
   "outputs": [
    {
     "name": "stdout",
     "output_type": "stream",
     "text": [
      "<class 'pandas.core.frame.DataFrame'>\n",
      "RangeIndex: 140160 entries, 0 to 140159\n",
      "Data columns (total 6 columns):\n",
      "Site                       140160 non-null object\n",
      "Species                    140160 non-null object\n",
      "ReadingDateTime            140160 non-null object\n",
      "Value                      101218 non-null float64\n",
      "Units                      140160 non-null object\n",
      "Provisional or Ratified    140160 non-null object\n",
      "dtypes: float64(1), object(5)\n",
      "memory usage: 6.4+ MB\n"
     ]
    }
   ],
   "source": [
    "oxford_Data.info() #to get the infomation about the data"
   ]
  },
  {
   "cell_type": "code",
   "execution_count": 73,
   "metadata": {},
   "outputs": [
    {
     "data": {
      "text/plain": [
       "Site                           0\n",
       "Species                        0\n",
       "ReadingDateTime                0\n",
       "Value                      38942\n",
       "Units                          0\n",
       "Provisional or Ratified        0\n",
       "dtype: int64"
      ]
     },
     "execution_count": 73,
     "metadata": {},
     "output_type": "execute_result"
    }
   ],
   "source": [
    "oxford_Data.isnull().sum() #This  gives the total number of null values for each column "
   ]
  },
  {
   "cell_type": "code",
   "execution_count": 74,
   "metadata": {},
   "outputs": [
    {
     "data": {
      "text/html": [
       "<div>\n",
       "<style scoped>\n",
       "    .dataframe tbody tr th:only-of-type {\n",
       "        vertical-align: middle;\n",
       "    }\n",
       "\n",
       "    .dataframe tbody tr th {\n",
       "        vertical-align: top;\n",
       "    }\n",
       "\n",
       "    .dataframe thead th {\n",
       "        text-align: right;\n",
       "    }\n",
       "</style>\n",
       "<table border=\"1\" class=\"dataframe\">\n",
       "  <thead>\n",
       "    <tr style=\"text-align: right;\">\n",
       "      <th></th>\n",
       "      <th>Site</th>\n",
       "      <th>Species</th>\n",
       "      <th>ReadingDateTime</th>\n",
       "      <th>Value</th>\n",
       "      <th>Units</th>\n",
       "      <th>Provisional or Ratified</th>\n",
       "    </tr>\n",
       "  </thead>\n",
       "  <tbody>\n",
       "    <tr>\n",
       "      <th>1094</th>\n",
       "      <td>WM6</td>\n",
       "      <td>NO</td>\n",
       "      <td>12/01/2018 09:30</td>\n",
       "      <td>NaN</td>\n",
       "      <td>ug m-3</td>\n",
       "      <td>R</td>\n",
       "    </tr>\n",
       "    <tr>\n",
       "      <th>1095</th>\n",
       "      <td>WM6</td>\n",
       "      <td>NO</td>\n",
       "      <td>12/01/2018 09:45</td>\n",
       "      <td>NaN</td>\n",
       "      <td>ug m-3</td>\n",
       "      <td>R</td>\n",
       "    </tr>\n",
       "    <tr>\n",
       "      <th>1096</th>\n",
       "      <td>WM6</td>\n",
       "      <td>NO</td>\n",
       "      <td>12/01/2018 10:00</td>\n",
       "      <td>NaN</td>\n",
       "      <td>ug m-3</td>\n",
       "      <td>R</td>\n",
       "    </tr>\n",
       "    <tr>\n",
       "      <th>1097</th>\n",
       "      <td>WM6</td>\n",
       "      <td>NO</td>\n",
       "      <td>12/01/2018 10:15</td>\n",
       "      <td>NaN</td>\n",
       "      <td>ug m-3</td>\n",
       "      <td>R</td>\n",
       "    </tr>\n",
       "    <tr>\n",
       "      <th>2369</th>\n",
       "      <td>WM6</td>\n",
       "      <td>NO</td>\n",
       "      <td>25/01/2018 16:15</td>\n",
       "      <td>NaN</td>\n",
       "      <td>ug m-3</td>\n",
       "      <td>R</td>\n",
       "    </tr>\n",
       "  </tbody>\n",
       "</table>\n",
       "</div>"
      ],
      "text/plain": [
       "     Site Species   ReadingDateTime  Value   Units Provisional or Ratified\n",
       "1094  WM6      NO  12/01/2018 09:30    NaN  ug m-3                       R\n",
       "1095  WM6      NO  12/01/2018 09:45    NaN  ug m-3                       R\n",
       "1096  WM6      NO  12/01/2018 10:00    NaN  ug m-3                       R\n",
       "1097  WM6      NO  12/01/2018 10:15    NaN  ug m-3                       R\n",
       "2369  WM6      NO  25/01/2018 16:15    NaN  ug m-3                       R"
      ]
     },
     "execution_count": 74,
     "metadata": {},
     "output_type": "execute_result"
    }
   ],
   "source": [
    "#Printing the data which has null values\n",
    "oxford_Data[oxford_Data.isnull().any(1)].head()"
   ]
  },
  {
   "cell_type": "code",
   "execution_count": 145,
   "metadata": {},
   "outputs": [
    {
     "name": "stdout",
     "output_type": "stream",
     "text": [
      "ug/m3           105120\n",
      "ug/m3 as NO2     35012\n",
      "ug/m3 as NO         28\n",
      "Name: Units, dtype: int64\n"
     ]
    }
   ],
   "source": [
    "#you can see there are ug m-3 as NO2 has three different values but all three are same.These must be replaced \n",
    "print(oxford_Data['Units'].value_counts())"
   ]
  },
  {
   "cell_type": "code",
   "execution_count": 76,
   "metadata": {},
   "outputs": [],
   "source": [
    "#Replacing ug m-3 as NO 2, ug m -3 as NO 2 as ug m-3 as NO2 to standard notation\n",
    "oxford_Data=oxford_Data.replace(to_replace=['ug m-3 as NO 2','ug m -3 as NO 2'],value='ug/m3 as NO')\n",
    "oxford_Data=oxford_Data.replace(to_replace=['ug m-3'],value='ug/m3')\n",
    "oxford_Data=oxford_Data.replace(to_replace=['ug m-3 as NO2'],value='ug/m3 as NO2')"
   ]
  },
  {
   "cell_type": "code",
   "execution_count": 77,
   "metadata": {},
   "outputs": [
    {
     "name": "stdout",
     "output_type": "stream",
     "text": [
      "ug/m3           105120\n",
      "ug/m3 as NO2     35012\n",
      "ug/m3 as NO         28\n",
      "Name: Units, dtype: int64\n"
     ]
    }
   ],
   "source": [
    "print(oxford_Data['Units'].value_counts()) #checking for unique values"
   ]
  },
  {
   "cell_type": "code",
   "execution_count": null,
   "metadata": {},
   "outputs": [],
   "source": [
    "putney_data['Species'].value_counts()"
   ]
  },
  {
   "cell_type": "code",
   "execution_count": 78,
   "metadata": {},
   "outputs": [],
   "source": [
    " oxford_Data_new = oxford_Data.dropna() #dropping null values because mean and median imputation can be effected by outliers"
   ]
  },
  {
   "cell_type": "code",
   "execution_count": 79,
   "metadata": {},
   "outputs": [
    {
     "data": {
      "text/plain": [
       "Site                       0\n",
       "Species                    0\n",
       "ReadingDateTime            0\n",
       "Value                      0\n",
       "Units                      0\n",
       "Provisional or Ratified    0\n",
       "dtype: int64"
      ]
     },
     "execution_count": 79,
     "metadata": {},
     "output_type": "execute_result"
    }
   ],
   "source": [
    "oxford_Data_new.isnull().sum() #checking for null values "
   ]
  },
  {
   "cell_type": "code",
   "execution_count": 80,
   "metadata": {},
   "outputs": [
    {
     "name": "stderr",
     "output_type": "stream",
     "text": [
      "C:\\ProgramData\\Anaconda3\\lib\\site-packages\\ipykernel_launcher.py:2: SettingWithCopyWarning: \n",
      "A value is trying to be set on a copy of a slice from a DataFrame.\n",
      "Try using .loc[row_indexer,col_indexer] = value instead\n",
      "\n",
      "See the caveats in the documentation: http://pandas.pydata.org/pandas-docs/stable/indexing.html#indexing-view-versus-copy\n",
      "  \n"
     ]
    },
    {
     "data": {
      "text/html": [
       "<div>\n",
       "<style scoped>\n",
       "    .dataframe tbody tr th:only-of-type {\n",
       "        vertical-align: middle;\n",
       "    }\n",
       "\n",
       "    .dataframe tbody tr th {\n",
       "        vertical-align: top;\n",
       "    }\n",
       "\n",
       "    .dataframe thead th {\n",
       "        text-align: right;\n",
       "    }\n",
       "</style>\n",
       "<table border=\"1\" class=\"dataframe\">\n",
       "  <thead>\n",
       "    <tr style=\"text-align: right;\">\n",
       "      <th></th>\n",
       "      <th>Site</th>\n",
       "      <th>Species</th>\n",
       "      <th>ReadingDateTime</th>\n",
       "      <th>Value</th>\n",
       "      <th>Units</th>\n",
       "      <th>Provisional or Ratified</th>\n",
       "    </tr>\n",
       "  </thead>\n",
       "  <tbody>\n",
       "    <tr>\n",
       "      <th>0</th>\n",
       "      <td>WM6</td>\n",
       "      <td>NO</td>\n",
       "      <td>2018-01-01 00:00:00</td>\n",
       "      <td>55.9</td>\n",
       "      <td>ug/m3</td>\n",
       "      <td>R</td>\n",
       "    </tr>\n",
       "    <tr>\n",
       "      <th>1</th>\n",
       "      <td>WM6</td>\n",
       "      <td>NO</td>\n",
       "      <td>2018-01-01 00:15:00</td>\n",
       "      <td>56.4</td>\n",
       "      <td>ug/m3</td>\n",
       "      <td>R</td>\n",
       "    </tr>\n",
       "    <tr>\n",
       "      <th>2</th>\n",
       "      <td>WM6</td>\n",
       "      <td>NO</td>\n",
       "      <td>2018-01-01 00:30:00</td>\n",
       "      <td>55.5</td>\n",
       "      <td>ug/m3</td>\n",
       "      <td>R</td>\n",
       "    </tr>\n",
       "    <tr>\n",
       "      <th>3</th>\n",
       "      <td>WM6</td>\n",
       "      <td>NO</td>\n",
       "      <td>2018-01-01 00:45:00</td>\n",
       "      <td>69.1</td>\n",
       "      <td>ug/m3</td>\n",
       "      <td>R</td>\n",
       "    </tr>\n",
       "    <tr>\n",
       "      <th>4</th>\n",
       "      <td>WM6</td>\n",
       "      <td>NO</td>\n",
       "      <td>2018-01-01 01:00:00</td>\n",
       "      <td>34.7</td>\n",
       "      <td>ug/m3</td>\n",
       "      <td>R</td>\n",
       "    </tr>\n",
       "  </tbody>\n",
       "</table>\n",
       "</div>"
      ],
      "text/plain": [
       "  Site Species     ReadingDateTime  Value  Units Provisional or Ratified\n",
       "0  WM6      NO 2018-01-01 00:00:00   55.9  ug/m3                       R\n",
       "1  WM6      NO 2018-01-01 00:15:00   56.4  ug/m3                       R\n",
       "2  WM6      NO 2018-01-01 00:30:00   55.5  ug/m3                       R\n",
       "3  WM6      NO 2018-01-01 00:45:00   69.1  ug/m3                       R\n",
       "4  WM6      NO 2018-01-01 01:00:00   34.7  ug/m3                       R"
      ]
     },
     "execution_count": 80,
     "metadata": {},
     "output_type": "execute_result"
    }
   ],
   "source": [
    "#Changing the data to timeseries to make analysis based on working hours \n",
    "oxford_Data_new['ReadingDateTime'] = pd.to_datetime(oxford_Data['ReadingDateTime'], format='%d/%m/%Y %H:%M')\n",
    "oxford_Data_new.head()"
   ]
  },
  {
   "cell_type": "code",
   "execution_count": 81,
   "metadata": {},
   "outputs": [],
   "source": [
    "#making ReadingDateTime as index for better indexing of time\n",
    "oxford_Data_timeSeries = oxford_Data_new.set_index('ReadingDateTime')"
   ]
  },
  {
   "cell_type": "code",
   "execution_count": 82,
   "metadata": {},
   "outputs": [],
   "source": [
    "#Indexing time based on non working hours\n",
    "oxford_Data_non_working_hours1 = oxford_Data_timeSeries.between_time(\"00:00\", \"08:45\")"
   ]
  },
  {
   "cell_type": "code",
   "execution_count": 83,
   "metadata": {},
   "outputs": [
    {
     "data": {
      "text/html": [
       "<div>\n",
       "<style scoped>\n",
       "    .dataframe tbody tr th:only-of-type {\n",
       "        vertical-align: middle;\n",
       "    }\n",
       "\n",
       "    .dataframe tbody tr th {\n",
       "        vertical-align: top;\n",
       "    }\n",
       "\n",
       "    .dataframe thead th {\n",
       "        text-align: right;\n",
       "    }\n",
       "</style>\n",
       "<table border=\"1\" class=\"dataframe\">\n",
       "  <thead>\n",
       "    <tr style=\"text-align: right;\">\n",
       "      <th></th>\n",
       "      <th>Site</th>\n",
       "      <th>Species</th>\n",
       "      <th>Value</th>\n",
       "      <th>Units</th>\n",
       "      <th>Provisional or Ratified</th>\n",
       "    </tr>\n",
       "    <tr>\n",
       "      <th>ReadingDateTime</th>\n",
       "      <th></th>\n",
       "      <th></th>\n",
       "      <th></th>\n",
       "      <th></th>\n",
       "      <th></th>\n",
       "    </tr>\n",
       "  </thead>\n",
       "  <tbody>\n",
       "    <tr>\n",
       "      <th>2018-01-01 00:00:00</th>\n",
       "      <td>WM6</td>\n",
       "      <td>NO</td>\n",
       "      <td>55.9</td>\n",
       "      <td>ug/m3</td>\n",
       "      <td>R</td>\n",
       "    </tr>\n",
       "    <tr>\n",
       "      <th>2018-01-01 00:15:00</th>\n",
       "      <td>WM6</td>\n",
       "      <td>NO</td>\n",
       "      <td>56.4</td>\n",
       "      <td>ug/m3</td>\n",
       "      <td>R</td>\n",
       "    </tr>\n",
       "    <tr>\n",
       "      <th>2018-01-01 00:30:00</th>\n",
       "      <td>WM6</td>\n",
       "      <td>NO</td>\n",
       "      <td>55.5</td>\n",
       "      <td>ug/m3</td>\n",
       "      <td>R</td>\n",
       "    </tr>\n",
       "    <tr>\n",
       "      <th>2018-01-01 00:45:00</th>\n",
       "      <td>WM6</td>\n",
       "      <td>NO</td>\n",
       "      <td>69.1</td>\n",
       "      <td>ug/m3</td>\n",
       "      <td>R</td>\n",
       "    </tr>\n",
       "    <tr>\n",
       "      <th>2018-01-01 01:00:00</th>\n",
       "      <td>WM6</td>\n",
       "      <td>NO</td>\n",
       "      <td>34.7</td>\n",
       "      <td>ug/m3</td>\n",
       "      <td>R</td>\n",
       "    </tr>\n",
       "  </tbody>\n",
       "</table>\n",
       "</div>"
      ],
      "text/plain": [
       "                    Site Species  Value  Units Provisional or Ratified\n",
       "ReadingDateTime                                                       \n",
       "2018-01-01 00:00:00  WM6      NO   55.9  ug/m3                       R\n",
       "2018-01-01 00:15:00  WM6      NO   56.4  ug/m3                       R\n",
       "2018-01-01 00:30:00  WM6      NO   55.5  ug/m3                       R\n",
       "2018-01-01 00:45:00  WM6      NO   69.1  ug/m3                       R\n",
       "2018-01-01 01:00:00  WM6      NO   34.7  ug/m3                       R"
      ]
     },
     "execution_count": 83,
     "metadata": {},
     "output_type": "execute_result"
    }
   ],
   "source": [
    "#Prints top 5 rows\n",
    "oxford_Data_non_working_hours1.head()"
   ]
  },
  {
   "cell_type": "code",
   "execution_count": 84,
   "metadata": {},
   "outputs": [
    {
     "data": {
      "text/html": [
       "<div>\n",
       "<style scoped>\n",
       "    .dataframe tbody tr th:only-of-type {\n",
       "        vertical-align: middle;\n",
       "    }\n",
       "\n",
       "    .dataframe tbody tr th {\n",
       "        vertical-align: top;\n",
       "    }\n",
       "\n",
       "    .dataframe thead th {\n",
       "        text-align: right;\n",
       "    }\n",
       "</style>\n",
       "<table border=\"1\" class=\"dataframe\">\n",
       "  <thead>\n",
       "    <tr style=\"text-align: right;\">\n",
       "      <th></th>\n",
       "      <th>Site</th>\n",
       "      <th>Species</th>\n",
       "      <th>Value</th>\n",
       "      <th>Units</th>\n",
       "      <th>Provisional or Ratified</th>\n",
       "    </tr>\n",
       "    <tr>\n",
       "      <th>ReadingDateTime</th>\n",
       "      <th></th>\n",
       "      <th></th>\n",
       "      <th></th>\n",
       "      <th></th>\n",
       "      <th></th>\n",
       "    </tr>\n",
       "  </thead>\n",
       "  <tbody>\n",
       "    <tr>\n",
       "      <th>2018-12-31 07:45:00</th>\n",
       "      <td>WM6</td>\n",
       "      <td>PM10</td>\n",
       "      <td>13.4</td>\n",
       "      <td>ug/m3</td>\n",
       "      <td>P</td>\n",
       "    </tr>\n",
       "    <tr>\n",
       "      <th>2018-12-31 08:00:00</th>\n",
       "      <td>WM6</td>\n",
       "      <td>PM10</td>\n",
       "      <td>9.7</td>\n",
       "      <td>ug/m3</td>\n",
       "      <td>P</td>\n",
       "    </tr>\n",
       "    <tr>\n",
       "      <th>2018-12-31 08:15:00</th>\n",
       "      <td>WM6</td>\n",
       "      <td>PM10</td>\n",
       "      <td>9.7</td>\n",
       "      <td>ug/m3</td>\n",
       "      <td>P</td>\n",
       "    </tr>\n",
       "    <tr>\n",
       "      <th>2018-12-31 08:30:00</th>\n",
       "      <td>WM6</td>\n",
       "      <td>PM10</td>\n",
       "      <td>9.7</td>\n",
       "      <td>ug/m3</td>\n",
       "      <td>P</td>\n",
       "    </tr>\n",
       "    <tr>\n",
       "      <th>2018-12-31 08:45:00</th>\n",
       "      <td>WM6</td>\n",
       "      <td>PM10</td>\n",
       "      <td>9.7</td>\n",
       "      <td>ug/m3</td>\n",
       "      <td>P</td>\n",
       "    </tr>\n",
       "  </tbody>\n",
       "</table>\n",
       "</div>"
      ],
      "text/plain": [
       "                    Site Species  Value  Units Provisional or Ratified\n",
       "ReadingDateTime                                                       \n",
       "2018-12-31 07:45:00  WM6    PM10   13.4  ug/m3                       P\n",
       "2018-12-31 08:00:00  WM6    PM10    9.7  ug/m3                       P\n",
       "2018-12-31 08:15:00  WM6    PM10    9.7  ug/m3                       P\n",
       "2018-12-31 08:30:00  WM6    PM10    9.7  ug/m3                       P\n",
       "2018-12-31 08:45:00  WM6    PM10    9.7  ug/m3                       P"
      ]
     },
     "execution_count": 84,
     "metadata": {},
     "output_type": "execute_result"
    }
   ],
   "source": [
    "#Displays last 5 rows\n",
    "oxford_Data_non_working_hours1.tail()"
   ]
  },
  {
   "cell_type": "code",
   "execution_count": 85,
   "metadata": {},
   "outputs": [],
   "source": [
    "oxford_Data_non_working_hours2 = oxford_Data_timeSeries.between_time('17:10', '23:45')"
   ]
  },
  {
   "cell_type": "code",
   "execution_count": 86,
   "metadata": {},
   "outputs": [
    {
     "data": {
      "text/html": [
       "<div>\n",
       "<style scoped>\n",
       "    .dataframe tbody tr th:only-of-type {\n",
       "        vertical-align: middle;\n",
       "    }\n",
       "\n",
       "    .dataframe tbody tr th {\n",
       "        vertical-align: top;\n",
       "    }\n",
       "\n",
       "    .dataframe thead th {\n",
       "        text-align: right;\n",
       "    }\n",
       "</style>\n",
       "<table border=\"1\" class=\"dataframe\">\n",
       "  <thead>\n",
       "    <tr style=\"text-align: right;\">\n",
       "      <th></th>\n",
       "      <th>Site</th>\n",
       "      <th>Species</th>\n",
       "      <th>Value</th>\n",
       "      <th>Units</th>\n",
       "      <th>Provisional or Ratified</th>\n",
       "    </tr>\n",
       "    <tr>\n",
       "      <th>ReadingDateTime</th>\n",
       "      <th></th>\n",
       "      <th></th>\n",
       "      <th></th>\n",
       "      <th></th>\n",
       "      <th></th>\n",
       "    </tr>\n",
       "  </thead>\n",
       "  <tbody>\n",
       "    <tr>\n",
       "      <th>2018-01-01 17:15:00</th>\n",
       "      <td>WM6</td>\n",
       "      <td>NO</td>\n",
       "      <td>230.60001</td>\n",
       "      <td>ug/m3</td>\n",
       "      <td>R</td>\n",
       "    </tr>\n",
       "    <tr>\n",
       "      <th>2018-01-01 17:30:00</th>\n",
       "      <td>WM6</td>\n",
       "      <td>NO</td>\n",
       "      <td>236.89999</td>\n",
       "      <td>ug/m3</td>\n",
       "      <td>R</td>\n",
       "    </tr>\n",
       "    <tr>\n",
       "      <th>2018-01-01 17:45:00</th>\n",
       "      <td>WM6</td>\n",
       "      <td>NO</td>\n",
       "      <td>238.20000</td>\n",
       "      <td>ug/m3</td>\n",
       "      <td>R</td>\n",
       "    </tr>\n",
       "    <tr>\n",
       "      <th>2018-01-01 18:00:00</th>\n",
       "      <td>WM6</td>\n",
       "      <td>NO</td>\n",
       "      <td>206.39999</td>\n",
       "      <td>ug/m3</td>\n",
       "      <td>R</td>\n",
       "    </tr>\n",
       "    <tr>\n",
       "      <th>2018-01-01 18:15:00</th>\n",
       "      <td>WM6</td>\n",
       "      <td>NO</td>\n",
       "      <td>185.10001</td>\n",
       "      <td>ug/m3</td>\n",
       "      <td>R</td>\n",
       "    </tr>\n",
       "  </tbody>\n",
       "</table>\n",
       "</div>"
      ],
      "text/plain": [
       "                    Site Species      Value  Units Provisional or Ratified\n",
       "ReadingDateTime                                                           \n",
       "2018-01-01 17:15:00  WM6      NO  230.60001  ug/m3                       R\n",
       "2018-01-01 17:30:00  WM6      NO  236.89999  ug/m3                       R\n",
       "2018-01-01 17:45:00  WM6      NO  238.20000  ug/m3                       R\n",
       "2018-01-01 18:00:00  WM6      NO  206.39999  ug/m3                       R\n",
       "2018-01-01 18:15:00  WM6      NO  185.10001  ug/m3                       R"
      ]
     },
     "execution_count": 86,
     "metadata": {},
     "output_type": "execute_result"
    }
   ],
   "source": [
    "#Displays top 5 rows\n",
    "oxford_Data_non_working_hours2.head()"
   ]
  },
  {
   "cell_type": "code",
   "execution_count": 87,
   "metadata": {},
   "outputs": [
    {
     "data": {
      "text/html": [
       "<div>\n",
       "<style scoped>\n",
       "    .dataframe tbody tr th:only-of-type {\n",
       "        vertical-align: middle;\n",
       "    }\n",
       "\n",
       "    .dataframe tbody tr th {\n",
       "        vertical-align: top;\n",
       "    }\n",
       "\n",
       "    .dataframe thead th {\n",
       "        text-align: right;\n",
       "    }\n",
       "</style>\n",
       "<table border=\"1\" class=\"dataframe\">\n",
       "  <thead>\n",
       "    <tr style=\"text-align: right;\">\n",
       "      <th></th>\n",
       "      <th>Site</th>\n",
       "      <th>Species</th>\n",
       "      <th>Value</th>\n",
       "      <th>Units</th>\n",
       "      <th>Provisional or Ratified</th>\n",
       "    </tr>\n",
       "    <tr>\n",
       "      <th>ReadingDateTime</th>\n",
       "      <th></th>\n",
       "      <th></th>\n",
       "      <th></th>\n",
       "      <th></th>\n",
       "      <th></th>\n",
       "    </tr>\n",
       "  </thead>\n",
       "  <tbody>\n",
       "    <tr>\n",
       "      <th>2018-12-31 22:45:00</th>\n",
       "      <td>WM6</td>\n",
       "      <td>PM10</td>\n",
       "      <td>23.9</td>\n",
       "      <td>ug/m3</td>\n",
       "      <td>P</td>\n",
       "    </tr>\n",
       "    <tr>\n",
       "      <th>2018-12-31 23:00:00</th>\n",
       "      <td>WM6</td>\n",
       "      <td>PM10</td>\n",
       "      <td>22.3</td>\n",
       "      <td>ug/m3</td>\n",
       "      <td>P</td>\n",
       "    </tr>\n",
       "    <tr>\n",
       "      <th>2018-12-31 23:15:00</th>\n",
       "      <td>WM6</td>\n",
       "      <td>PM10</td>\n",
       "      <td>22.3</td>\n",
       "      <td>ug/m3</td>\n",
       "      <td>P</td>\n",
       "    </tr>\n",
       "    <tr>\n",
       "      <th>2018-12-31 23:30:00</th>\n",
       "      <td>WM6</td>\n",
       "      <td>PM10</td>\n",
       "      <td>22.3</td>\n",
       "      <td>ug/m3</td>\n",
       "      <td>P</td>\n",
       "    </tr>\n",
       "    <tr>\n",
       "      <th>2018-12-31 23:45:00</th>\n",
       "      <td>WM6</td>\n",
       "      <td>PM10</td>\n",
       "      <td>22.3</td>\n",
       "      <td>ug/m3</td>\n",
       "      <td>P</td>\n",
       "    </tr>\n",
       "  </tbody>\n",
       "</table>\n",
       "</div>"
      ],
      "text/plain": [
       "                    Site Species  Value  Units Provisional or Ratified\n",
       "ReadingDateTime                                                       \n",
       "2018-12-31 22:45:00  WM6    PM10   23.9  ug/m3                       P\n",
       "2018-12-31 23:00:00  WM6    PM10   22.3  ug/m3                       P\n",
       "2018-12-31 23:15:00  WM6    PM10   22.3  ug/m3                       P\n",
       "2018-12-31 23:30:00  WM6    PM10   22.3  ug/m3                       P\n",
       "2018-12-31 23:45:00  WM6    PM10   22.3  ug/m3                       P"
      ]
     },
     "execution_count": 87,
     "metadata": {},
     "output_type": "execute_result"
    }
   ],
   "source": [
    "#Displays bottom 5 rows\n",
    "oxford_Data_non_working_hours2.tail()"
   ]
  },
  {
   "cell_type": "code",
   "execution_count": 88,
   "metadata": {},
   "outputs": [],
   "source": [
    "#Concatinating both the dataframe which contains only non working hours\n",
    "oxford_data_final = pd.concat([oxford_Data_non_working_hours1, oxford_Data_non_working_hours2])"
   ]
  },
  {
   "cell_type": "code",
   "execution_count": 89,
   "metadata": {},
   "outputs": [
    {
     "data": {
      "text/html": [
       "<div>\n",
       "<style scoped>\n",
       "    .dataframe tbody tr th:only-of-type {\n",
       "        vertical-align: middle;\n",
       "    }\n",
       "\n",
       "    .dataframe tbody tr th {\n",
       "        vertical-align: top;\n",
       "    }\n",
       "\n",
       "    .dataframe thead th {\n",
       "        text-align: right;\n",
       "    }\n",
       "</style>\n",
       "<table border=\"1\" class=\"dataframe\">\n",
       "  <thead>\n",
       "    <tr style=\"text-align: right;\">\n",
       "      <th></th>\n",
       "      <th>Site</th>\n",
       "      <th>Species</th>\n",
       "      <th>Value</th>\n",
       "      <th>Units</th>\n",
       "      <th>Provisional or Ratified</th>\n",
       "    </tr>\n",
       "    <tr>\n",
       "      <th>ReadingDateTime</th>\n",
       "      <th></th>\n",
       "      <th></th>\n",
       "      <th></th>\n",
       "      <th></th>\n",
       "      <th></th>\n",
       "    </tr>\n",
       "  </thead>\n",
       "  <tbody>\n",
       "    <tr>\n",
       "      <th>2018-01-01 00:00:00</th>\n",
       "      <td>WM6</td>\n",
       "      <td>NO</td>\n",
       "      <td>55.9</td>\n",
       "      <td>ug/m3</td>\n",
       "      <td>R</td>\n",
       "    </tr>\n",
       "    <tr>\n",
       "      <th>2018-01-01 00:15:00</th>\n",
       "      <td>WM6</td>\n",
       "      <td>NO</td>\n",
       "      <td>56.4</td>\n",
       "      <td>ug/m3</td>\n",
       "      <td>R</td>\n",
       "    </tr>\n",
       "    <tr>\n",
       "      <th>2018-01-01 00:30:00</th>\n",
       "      <td>WM6</td>\n",
       "      <td>NO</td>\n",
       "      <td>55.5</td>\n",
       "      <td>ug/m3</td>\n",
       "      <td>R</td>\n",
       "    </tr>\n",
       "    <tr>\n",
       "      <th>2018-01-01 00:45:00</th>\n",
       "      <td>WM6</td>\n",
       "      <td>NO</td>\n",
       "      <td>69.1</td>\n",
       "      <td>ug/m3</td>\n",
       "      <td>R</td>\n",
       "    </tr>\n",
       "    <tr>\n",
       "      <th>2018-01-01 01:00:00</th>\n",
       "      <td>WM6</td>\n",
       "      <td>NO</td>\n",
       "      <td>34.7</td>\n",
       "      <td>ug/m3</td>\n",
       "      <td>R</td>\n",
       "    </tr>\n",
       "    <tr>\n",
       "      <th>2018-01-01 01:15:00</th>\n",
       "      <td>WM6</td>\n",
       "      <td>NO</td>\n",
       "      <td>41.8</td>\n",
       "      <td>ug/m3</td>\n",
       "      <td>R</td>\n",
       "    </tr>\n",
       "    <tr>\n",
       "      <th>2018-01-01 01:30:00</th>\n",
       "      <td>WM6</td>\n",
       "      <td>NO</td>\n",
       "      <td>41.8</td>\n",
       "      <td>ug/m3</td>\n",
       "      <td>R</td>\n",
       "    </tr>\n",
       "    <tr>\n",
       "      <th>2018-01-01 01:45:00</th>\n",
       "      <td>WM6</td>\n",
       "      <td>NO</td>\n",
       "      <td>95.1</td>\n",
       "      <td>ug/m3</td>\n",
       "      <td>R</td>\n",
       "    </tr>\n",
       "    <tr>\n",
       "      <th>2018-01-01 02:00:00</th>\n",
       "      <td>WM6</td>\n",
       "      <td>NO</td>\n",
       "      <td>93.6</td>\n",
       "      <td>ug/m3</td>\n",
       "      <td>R</td>\n",
       "    </tr>\n",
       "    <tr>\n",
       "      <th>2018-01-01 02:15:00</th>\n",
       "      <td>WM6</td>\n",
       "      <td>NO</td>\n",
       "      <td>45.5</td>\n",
       "      <td>ug/m3</td>\n",
       "      <td>R</td>\n",
       "    </tr>\n",
       "  </tbody>\n",
       "</table>\n",
       "</div>"
      ],
      "text/plain": [
       "                    Site Species  Value  Units Provisional or Ratified\n",
       "ReadingDateTime                                                       \n",
       "2018-01-01 00:00:00  WM6      NO   55.9  ug/m3                       R\n",
       "2018-01-01 00:15:00  WM6      NO   56.4  ug/m3                       R\n",
       "2018-01-01 00:30:00  WM6      NO   55.5  ug/m3                       R\n",
       "2018-01-01 00:45:00  WM6      NO   69.1  ug/m3                       R\n",
       "2018-01-01 01:00:00  WM6      NO   34.7  ug/m3                       R\n",
       "2018-01-01 01:15:00  WM6      NO   41.8  ug/m3                       R\n",
       "2018-01-01 01:30:00  WM6      NO   41.8  ug/m3                       R\n",
       "2018-01-01 01:45:00  WM6      NO   95.1  ug/m3                       R\n",
       "2018-01-01 02:00:00  WM6      NO   93.6  ug/m3                       R\n",
       "2018-01-01 02:15:00  WM6      NO   45.5  ug/m3                       R"
      ]
     },
     "execution_count": 89,
     "metadata": {},
     "output_type": "execute_result"
    }
   ],
   "source": [
    "oxford_data_final.head(10)"
   ]
  },
  {
   "cell_type": "code",
   "execution_count": 90,
   "metadata": {},
   "outputs": [
    {
     "data": {
      "text/html": [
       "<div>\n",
       "<style scoped>\n",
       "    .dataframe tbody tr th:only-of-type {\n",
       "        vertical-align: middle;\n",
       "    }\n",
       "\n",
       "    .dataframe tbody tr th {\n",
       "        vertical-align: top;\n",
       "    }\n",
       "\n",
       "    .dataframe thead th {\n",
       "        text-align: right;\n",
       "    }\n",
       "</style>\n",
       "<table border=\"1\" class=\"dataframe\">\n",
       "  <thead>\n",
       "    <tr style=\"text-align: right;\">\n",
       "      <th></th>\n",
       "      <th>Value</th>\n",
       "    </tr>\n",
       "  </thead>\n",
       "  <tbody>\n",
       "    <tr>\n",
       "      <th>count</th>\n",
       "      <td>66936.000000</td>\n",
       "    </tr>\n",
       "    <tr>\n",
       "      <th>mean</th>\n",
       "      <td>84.148249</td>\n",
       "    </tr>\n",
       "    <tr>\n",
       "      <th>std</th>\n",
       "      <td>87.401271</td>\n",
       "    </tr>\n",
       "    <tr>\n",
       "      <th>min</th>\n",
       "      <td>-1.800000</td>\n",
       "    </tr>\n",
       "    <tr>\n",
       "      <th>25%</th>\n",
       "      <td>28.300000</td>\n",
       "    </tr>\n",
       "    <tr>\n",
       "      <th>50%</th>\n",
       "      <td>55.600000</td>\n",
       "    </tr>\n",
       "    <tr>\n",
       "      <th>75%</th>\n",
       "      <td>104.300000</td>\n",
       "    </tr>\n",
       "    <tr>\n",
       "      <th>max</th>\n",
       "      <td>1415.400020</td>\n",
       "    </tr>\n",
       "  </tbody>\n",
       "</table>\n",
       "</div>"
      ],
      "text/plain": [
       "              Value\n",
       "count  66936.000000\n",
       "mean      84.148249\n",
       "std       87.401271\n",
       "min       -1.800000\n",
       "25%       28.300000\n",
       "50%       55.600000\n",
       "75%      104.300000\n",
       "max     1415.400020"
      ]
     },
     "execution_count": 90,
     "metadata": {},
     "output_type": "execute_result"
    }
   ],
   "source": [
    "#This gives statistical description for values column\n",
    "oxford_data_final.describe()"
   ]
  },
  {
   "cell_type": "markdown",
   "metadata": {},
   "source": [
    "if you observe the above values for oxford city, the mean value for whole month is around 84 which is quite large.Here i considered the effect of all gases irrespective of harmfulness of each gas(requires proper domain knowledge).The 75% of the data has value more than 104 AQI which is quite large. "
   ]
  },
  {
   "cell_type": "code",
   "execution_count": 91,
   "metadata": {},
   "outputs": [
    {
     "name": "stderr",
     "output_type": "stream",
     "text": [
      "C:\\ProgramData\\Anaconda3\\lib\\site-packages\\scipy\\stats\\stats.py:1713: FutureWarning: Using a non-tuple sequence for multidimensional indexing is deprecated; use `arr[tuple(seq)]` instead of `arr[seq]`. In the future this will be interpreted as an array index, `arr[np.array(seq)]`, which will result either in an error or a different result.\n",
      "  return np.add.reduce(sorted[indexer] * weights, axis=axis) / sumval\n"
     ]
    },
    {
     "data": {
      "image/png": "[encoded data removed]",
      "text/plain": [
       "<Figure size 864x720 with 1 Axes>"
      ]
     },
     "metadata": {
      "needs_background": "light"
     },
     "output_type": "display_data"
    }
   ],
   "source": [
    "#Distribute plot of each gas. The gas pM10 looks to be more dominant \n",
    "\n",
    "plt.figure(figsize=(12,10))\n",
    "#plt.subplot(1,2,2)\n",
    "sns.distplot(oxford_data_final[oxford_data_final['Species'] == 'NO']['Value'][0:] , label = \"NO\" , color = 'red')\n",
    "sns.distplot(oxford_data_final[oxford_data_final['Species'] == 'NO2']['Value'][0:] , label = \"NO2\" , color = 'blue')\n",
    "sns.distplot(oxford_data_final[oxford_data_final['Species'] == 'NOX']['Value'] [0:], label = \"NOX\" , color = 'green')\n",
    "sns.distplot(oxford_data_final[oxford_data_final['Species'] == 'PM10']['Value'][0:] , label = \"PM10\" , color = 'black')\n",
    "plt.legend()\n",
    "\n",
    "plt.show()"
   ]
  },
  {
   "cell_type": "markdown",
   "metadata": {},
   "source": [
    "If you observe the above graph the values are distributed till 400 quite more and highest with 1400"
   ]
  },
  {
   "cell_type": "code",
   "execution_count": 122,
   "metadata": {},
   "outputs": [
    {
     "name": "stdout",
     "output_type": "stream",
     "text": [
      "  Site Species   ReadingDateTime  Value   Units Provisional or Ratified\n",
      "0  WA9      CO  01/01/2018 00:00    NaN  mg m-3                       P\n",
      "1  WA9      CO  01/01/2018 00:15    NaN  mg m-3                       P\n",
      "2  WA9      CO  01/01/2018 00:30    NaN  mg m-3                       P\n",
      "3  WA9      CO  01/01/2018 00:45    NaN  mg m-3                       P\n",
      "4  WA9      CO  01/01/2018 01:00    NaN  mg m-3                       P\n",
      "5  WA9      CO  01/01/2018 01:15    NaN  mg m-3                       P\n",
      "6  WA9      CO  01/01/2018 01:30    NaN  mg m-3                       P\n",
      "7  WA9      CO  01/01/2018 01:45    NaN  mg m-3                       P\n",
      "8  WA9      CO  01/01/2018 02:00    NaN  mg m-3                       P\n",
      "9  WA9      CO  01/01/2018 02:15    NaN  mg m-3                       P\n",
      "(175200, 6)\n"
     ]
    }
   ],
   "source": [
    "putney_data=pd.read_csv('LaqnData_Putney_d.csv')\n",
    "print(putney_data.head(10))\n",
    "print(putney_data.shape)"
   ]
  },
  {
   "cell_type": "code",
   "execution_count": 123,
   "metadata": {},
   "outputs": [
    {
     "name": "stdout",
     "output_type": "stream",
     "text": [
      "<class 'pandas.core.frame.DataFrame'>\n",
      "RangeIndex: 175200 entries, 0 to 175199\n",
      "Data columns (total 6 columns):\n",
      "Site                       175200 non-null object\n",
      "Species                    175200 non-null object\n",
      "ReadingDateTime            175200 non-null object\n",
      "Value                      124197 non-null float64\n",
      "Units                      175200 non-null object\n",
      "Provisional or Ratified    175200 non-null object\n",
      "dtypes: float64(1), object(5)\n",
      "memory usage: 8.0+ MB\n"
     ]
    }
   ],
   "source": [
    "putney_data.info() #to get the infomation about the data"
   ]
  },
  {
   "cell_type": "code",
   "execution_count": 124,
   "metadata": {},
   "outputs": [
    {
     "data": {
      "text/plain": [
       "Site                           0\n",
       "Species                        0\n",
       "ReadingDateTime                0\n",
       "Value                      51003\n",
       "Units                          0\n",
       "Provisional or Ratified        0\n",
       "dtype: int64"
      ]
     },
     "execution_count": 124,
     "metadata": {},
     "output_type": "execute_result"
    }
   ],
   "source": [
    "putney_data.isnull().sum() #This  gives the total number of null values for each column "
   ]
  },
  {
   "cell_type": "code",
   "execution_count": 125,
   "metadata": {},
   "outputs": [
    {
     "data": {
      "text/html": [
       "<div>\n",
       "<style scoped>\n",
       "    .dataframe tbody tr th:only-of-type {\n",
       "        vertical-align: middle;\n",
       "    }\n",
       "\n",
       "    .dataframe tbody tr th {\n",
       "        vertical-align: top;\n",
       "    }\n",
       "\n",
       "    .dataframe thead th {\n",
       "        text-align: right;\n",
       "    }\n",
       "</style>\n",
       "<table border=\"1\" class=\"dataframe\">\n",
       "  <thead>\n",
       "    <tr style=\"text-align: right;\">\n",
       "      <th></th>\n",
       "      <th>Site</th>\n",
       "      <th>Species</th>\n",
       "      <th>ReadingDateTime</th>\n",
       "      <th>Value</th>\n",
       "      <th>Units</th>\n",
       "      <th>Provisional or Ratified</th>\n",
       "    </tr>\n",
       "  </thead>\n",
       "  <tbody>\n",
       "    <tr>\n",
       "      <th>0</th>\n",
       "      <td>WA9</td>\n",
       "      <td>CO</td>\n",
       "      <td>01/01/2018 00:00</td>\n",
       "      <td>NaN</td>\n",
       "      <td>mg m-3</td>\n",
       "      <td>P</td>\n",
       "    </tr>\n",
       "    <tr>\n",
       "      <th>1</th>\n",
       "      <td>WA9</td>\n",
       "      <td>CO</td>\n",
       "      <td>01/01/2018 00:15</td>\n",
       "      <td>NaN</td>\n",
       "      <td>mg m-3</td>\n",
       "      <td>P</td>\n",
       "    </tr>\n",
       "    <tr>\n",
       "      <th>2</th>\n",
       "      <td>WA9</td>\n",
       "      <td>CO</td>\n",
       "      <td>01/01/2018 00:30</td>\n",
       "      <td>NaN</td>\n",
       "      <td>mg m-3</td>\n",
       "      <td>P</td>\n",
       "    </tr>\n",
       "    <tr>\n",
       "      <th>3</th>\n",
       "      <td>WA9</td>\n",
       "      <td>CO</td>\n",
       "      <td>01/01/2018 00:45</td>\n",
       "      <td>NaN</td>\n",
       "      <td>mg m-3</td>\n",
       "      <td>P</td>\n",
       "    </tr>\n",
       "    <tr>\n",
       "      <th>4</th>\n",
       "      <td>WA9</td>\n",
       "      <td>CO</td>\n",
       "      <td>01/01/2018 01:00</td>\n",
       "      <td>NaN</td>\n",
       "      <td>mg m-3</td>\n",
       "      <td>P</td>\n",
       "    </tr>\n",
       "  </tbody>\n",
       "</table>\n",
       "</div>"
      ],
      "text/plain": [
       "  Site Species   ReadingDateTime  Value   Units Provisional or Ratified\n",
       "0  WA9      CO  01/01/2018 00:00    NaN  mg m-3                       P\n",
       "1  WA9      CO  01/01/2018 00:15    NaN  mg m-3                       P\n",
       "2  WA9      CO  01/01/2018 00:30    NaN  mg m-3                       P\n",
       "3  WA9      CO  01/01/2018 00:45    NaN  mg m-3                       P\n",
       "4  WA9      CO  01/01/2018 01:00    NaN  mg m-3                       P"
      ]
     },
     "execution_count": 125,
     "metadata": {},
     "output_type": "execute_result"
    }
   ],
   "source": [
    "#Printing the data which has null values\n",
    "putney_data[putney_data.isnull().any(1)].head()"
   ]
  },
  {
   "cell_type": "code",
   "execution_count": 126,
   "metadata": {},
   "outputs": [
    {
     "name": "stdout",
     "output_type": "stream",
     "text": [
      "ug m-3                           70080\n",
      "ug m-3 as NO2                    35040\n",
      "ug m-3 reference equiv by VCM    35040\n",
      "mg m-3                           35037\n",
      "mg m- 3                              1\n",
      "mg m-3                               1\n",
      "mg  m-3                              1\n",
      "Name: Units, dtype: int64\n"
     ]
    }
   ],
   "source": [
    "#you can see there are ug m-3 as NO2 has three different values but all three are same.These must be replaced \n",
    "print(putney_data['Units'].value_counts())"
   ]
  },
  {
   "cell_type": "code",
   "execution_count": 127,
   "metadata": {},
   "outputs": [],
   "source": [
    "#Replacing ug m-3 as NO 2, ug m -3 as NO 2 as ug m-3 as NO2 to standard notation\n",
    "putney_data=putney_data.replace(to_replace=['ug m-3 as NO2'],value='ug/m3 as NO2')\n",
    "putney_data=putney_data.replace(to_replace=['ug m-3'],value='ug/m3')\n",
    "putney_data=putney_data.replace(to_replace=['ug m-3 reference equiv by VCM'],value='ug m/3 reference equiv by VCM')\n",
    "putney_data=putney_data.replace(to_replace=['mg m- 3'],value='mg/m3')\n",
    "putney_data=putney_data.replace(to_replace=['mg m-3'],value='mg/m3')\n",
    "putney_data=putney_data.replace(to_replace=['mg  m-3'],value='mg/m3')\n",
    "putney_data=putney_data.replace(to_replace=['mg  m-3'],value='mg/m3')\n"
   ]
  },
  {
   "cell_type": "code",
   "execution_count": 128,
   "metadata": {},
   "outputs": [
    {
     "name": "stdout",
     "output_type": "stream",
     "text": [
      "ug/m3                            70080\n",
      "ug m/3 reference equiv by VCM    35040\n",
      "ug/m3 as NO2                     35040\n",
      "mg/m3                            35039\n",
      "mg m-3                               1\n",
      "Name: Units, dtype: int64\n"
     ]
    }
   ],
   "source": [
    "print(putney_data['Units'].value_counts()) #checking for unique values"
   ]
  },
  {
   "cell_type": "code",
   "execution_count": 146,
   "metadata": {},
   "outputs": [
    {
     "data": {
      "text/plain": [
       "NOX     35040\n",
       "PM10    35040\n",
       "NO2     35040\n",
       "CO      35038\n",
       "NO      35014\n",
       "no         26\n",
       "co          1\n",
       "Co          1\n",
       "Name: Species, dtype: int64"
      ]
     },
     "execution_count": 146,
     "metadata": {},
     "output_type": "execute_result"
    }
   ],
   "source": [
    "putney_data['Species'].value_counts()"
   ]
  },
  {
   "cell_type": "code",
   "execution_count": 147,
   "metadata": {},
   "outputs": [],
   "source": [
    "putney_data=putney_data.replace(to_replace='no',value='NO')\n",
    "putney_data=putney_data.replace(to_replace=['co','Co'],value='CO')"
   ]
  },
  {
   "cell_type": "code",
   "execution_count": 129,
   "metadata": {},
   "outputs": [],
   "source": [
    "putney_data_new = putney_data.dropna() #dropping null values because mean and median imputation can be effected by outliers"
   ]
  },
  {
   "cell_type": "code",
   "execution_count": 130,
   "metadata": {},
   "outputs": [
    {
     "data": {
      "text/plain": [
       "Site                       0\n",
       "Species                    0\n",
       "ReadingDateTime            0\n",
       "Value                      0\n",
       "Units                      0\n",
       "Provisional or Ratified    0\n",
       "dtype: int64"
      ]
     },
     "execution_count": 130,
     "metadata": {},
     "output_type": "execute_result"
    }
   ],
   "source": [
    "putney_data_new.isnull().sum() #checking for null values "
   ]
  },
  {
   "cell_type": "code",
   "execution_count": 131,
   "metadata": {},
   "outputs": [
    {
     "name": "stderr",
     "output_type": "stream",
     "text": [
      "C:\\ProgramData\\Anaconda3\\lib\\site-packages\\ipykernel_launcher.py:2: SettingWithCopyWarning: \n",
      "A value is trying to be set on a copy of a slice from a DataFrame.\n",
      "Try using .loc[row_indexer,col_indexer] = value instead\n",
      "\n",
      "See the caveats in the documentation: http://pandas.pydata.org/pandas-docs/stable/indexing.html#indexing-view-versus-copy\n",
      "  \n"
     ]
    },
    {
     "data": {
      "text/html": [
       "<div>\n",
       "<style scoped>\n",
       "    .dataframe tbody tr th:only-of-type {\n",
       "        vertical-align: middle;\n",
       "    }\n",
       "\n",
       "    .dataframe tbody tr th {\n",
       "        vertical-align: top;\n",
       "    }\n",
       "\n",
       "    .dataframe thead th {\n",
       "        text-align: right;\n",
       "    }\n",
       "</style>\n",
       "<table border=\"1\" class=\"dataframe\">\n",
       "  <thead>\n",
       "    <tr style=\"text-align: right;\">\n",
       "      <th></th>\n",
       "      <th>Site</th>\n",
       "      <th>Species</th>\n",
       "      <th>ReadingDateTime</th>\n",
       "      <th>Value</th>\n",
       "      <th>Units</th>\n",
       "      <th>Provisional or Ratified</th>\n",
       "    </tr>\n",
       "  </thead>\n",
       "  <tbody>\n",
       "    <tr>\n",
       "      <th>38762</th>\n",
       "      <td>WA9</td>\n",
       "      <td>NO</td>\n",
       "      <td>2018-02-08 18:30:00</td>\n",
       "      <td>15.4</td>\n",
       "      <td>ug/m3</td>\n",
       "      <td>P</td>\n",
       "    </tr>\n",
       "    <tr>\n",
       "      <th>38763</th>\n",
       "      <td>WA9</td>\n",
       "      <td>NO</td>\n",
       "      <td>2018-02-08 18:45:00</td>\n",
       "      <td>14.1</td>\n",
       "      <td>ug/m3</td>\n",
       "      <td>P</td>\n",
       "    </tr>\n",
       "    <tr>\n",
       "      <th>38764</th>\n",
       "      <td>WA9</td>\n",
       "      <td>NO</td>\n",
       "      <td>2018-02-08 19:00:00</td>\n",
       "      <td>12.8</td>\n",
       "      <td>ug/m3</td>\n",
       "      <td>P</td>\n",
       "    </tr>\n",
       "    <tr>\n",
       "      <th>38765</th>\n",
       "      <td>WA9</td>\n",
       "      <td>NO</td>\n",
       "      <td>2018-02-08 19:15:00</td>\n",
       "      <td>10.2</td>\n",
       "      <td>ug/m3</td>\n",
       "      <td>P</td>\n",
       "    </tr>\n",
       "    <tr>\n",
       "      <th>38766</th>\n",
       "      <td>WA9</td>\n",
       "      <td>NO</td>\n",
       "      <td>2018-02-08 19:30:00</td>\n",
       "      <td>10.2</td>\n",
       "      <td>ug/m3</td>\n",
       "      <td>P</td>\n",
       "    </tr>\n",
       "  </tbody>\n",
       "</table>\n",
       "</div>"
      ],
      "text/plain": [
       "      Site Species     ReadingDateTime  Value  Units Provisional or Ratified\n",
       "38762  WA9      NO 2018-02-08 18:30:00   15.4  ug/m3                       P\n",
       "38763  WA9      NO 2018-02-08 18:45:00   14.1  ug/m3                       P\n",
       "38764  WA9      NO 2018-02-08 19:00:00   12.8  ug/m3                       P\n",
       "38765  WA9      NO 2018-02-08 19:15:00   10.2  ug/m3                       P\n",
       "38766  WA9      NO 2018-02-08 19:30:00   10.2  ug/m3                       P"
      ]
     },
     "execution_count": 131,
     "metadata": {},
     "output_type": "execute_result"
    }
   ],
   "source": [
    "#Changing the data to timeseries to make analysis based on working hours \n",
    "putney_data_new['ReadingDateTime'] = pd.to_datetime(putney_data_new['ReadingDateTime'], format='%d/%m/%Y %H:%M')\n",
    "putney_data_new.head()"
   ]
  },
  {
   "cell_type": "code",
   "execution_count": 132,
   "metadata": {},
   "outputs": [],
   "source": [
    "#making ReadingDateTime as index for better indexing of time\n",
    "putney_data_timeSeries = putney_data_new.set_index('ReadingDateTime')"
   ]
  },
  {
   "cell_type": "code",
   "execution_count": 133,
   "metadata": {},
   "outputs": [],
   "source": [
    "#Indexing time based on non working hours\n",
    "putney_data_non_working_hours1 = putney_data_timeSeries.between_time(\"00:00\", \"08:45\")"
   ]
  },
  {
   "cell_type": "code",
   "execution_count": 134,
   "metadata": {},
   "outputs": [
    {
     "data": {
      "text/html": [
       "<div>\n",
       "<style scoped>\n",
       "    .dataframe tbody tr th:only-of-type {\n",
       "        vertical-align: middle;\n",
       "    }\n",
       "\n",
       "    .dataframe tbody tr th {\n",
       "        vertical-align: top;\n",
       "    }\n",
       "\n",
       "    .dataframe thead th {\n",
       "        text-align: right;\n",
       "    }\n",
       "</style>\n",
       "<table border=\"1\" class=\"dataframe\">\n",
       "  <thead>\n",
       "    <tr style=\"text-align: right;\">\n",
       "      <th></th>\n",
       "      <th>Site</th>\n",
       "      <th>Species</th>\n",
       "      <th>Value</th>\n",
       "      <th>Units</th>\n",
       "      <th>Provisional or Ratified</th>\n",
       "    </tr>\n",
       "    <tr>\n",
       "      <th>ReadingDateTime</th>\n",
       "      <th></th>\n",
       "      <th></th>\n",
       "      <th></th>\n",
       "      <th></th>\n",
       "      <th></th>\n",
       "    </tr>\n",
       "  </thead>\n",
       "  <tbody>\n",
       "    <tr>\n",
       "      <th>2018-02-09 00:00:00</th>\n",
       "      <td>WA9</td>\n",
       "      <td>NO</td>\n",
       "      <td>5.1</td>\n",
       "      <td>ug/m3</td>\n",
       "      <td>P</td>\n",
       "    </tr>\n",
       "    <tr>\n",
       "      <th>2018-02-09 00:15:00</th>\n",
       "      <td>WA9</td>\n",
       "      <td>NO</td>\n",
       "      <td>3.8</td>\n",
       "      <td>ug/m3</td>\n",
       "      <td>P</td>\n",
       "    </tr>\n",
       "    <tr>\n",
       "      <th>2018-02-09 00:30:00</th>\n",
       "      <td>WA9</td>\n",
       "      <td>NO</td>\n",
       "      <td>2.6</td>\n",
       "      <td>ug/m3</td>\n",
       "      <td>P</td>\n",
       "    </tr>\n",
       "    <tr>\n",
       "      <th>2018-02-09 00:45:00</th>\n",
       "      <td>WA9</td>\n",
       "      <td>NO</td>\n",
       "      <td>2.6</td>\n",
       "      <td>ug/m3</td>\n",
       "      <td>P</td>\n",
       "    </tr>\n",
       "    <tr>\n",
       "      <th>2018-02-09 01:00:00</th>\n",
       "      <td>WA9</td>\n",
       "      <td>NO</td>\n",
       "      <td>2.6</td>\n",
       "      <td>ug/m3</td>\n",
       "      <td>P</td>\n",
       "    </tr>\n",
       "  </tbody>\n",
       "</table>\n",
       "</div>"
      ],
      "text/plain": [
       "                    Site Species  Value  Units Provisional or Ratified\n",
       "ReadingDateTime                                                       \n",
       "2018-02-09 00:00:00  WA9      NO    5.1  ug/m3                       P\n",
       "2018-02-09 00:15:00  WA9      NO    3.8  ug/m3                       P\n",
       "2018-02-09 00:30:00  WA9      NO    2.6  ug/m3                       P\n",
       "2018-02-09 00:45:00  WA9      NO    2.6  ug/m3                       P\n",
       "2018-02-09 01:00:00  WA9      NO    2.6  ug/m3                       P"
      ]
     },
     "execution_count": 134,
     "metadata": {},
     "output_type": "execute_result"
    }
   ],
   "source": [
    "#Prints top 5 rows\n",
    "putney_data_non_working_hours1.head()"
   ]
  },
  {
   "cell_type": "code",
   "execution_count": 135,
   "metadata": {},
   "outputs": [
    {
     "data": {
      "text/html": [
       "<div>\n",
       "<style scoped>\n",
       "    .dataframe tbody tr th:only-of-type {\n",
       "        vertical-align: middle;\n",
       "    }\n",
       "\n",
       "    .dataframe tbody tr th {\n",
       "        vertical-align: top;\n",
       "    }\n",
       "\n",
       "    .dataframe thead th {\n",
       "        text-align: right;\n",
       "    }\n",
       "</style>\n",
       "<table border=\"1\" class=\"dataframe\">\n",
       "  <thead>\n",
       "    <tr style=\"text-align: right;\">\n",
       "      <th></th>\n",
       "      <th>Site</th>\n",
       "      <th>Species</th>\n",
       "      <th>Value</th>\n",
       "      <th>Units</th>\n",
       "      <th>Provisional or Ratified</th>\n",
       "    </tr>\n",
       "    <tr>\n",
       "      <th>ReadingDateTime</th>\n",
       "      <th></th>\n",
       "      <th></th>\n",
       "      <th></th>\n",
       "      <th></th>\n",
       "      <th></th>\n",
       "    </tr>\n",
       "  </thead>\n",
       "  <tbody>\n",
       "    <tr>\n",
       "      <th>2018-12-31 07:45:00</th>\n",
       "      <td>WA9</td>\n",
       "      <td>PM10</td>\n",
       "      <td>4.0</td>\n",
       "      <td>ug m/3 reference equiv by VCM</td>\n",
       "      <td>P</td>\n",
       "    </tr>\n",
       "    <tr>\n",
       "      <th>2018-12-31 08:00:00</th>\n",
       "      <td>WA9</td>\n",
       "      <td>PM10</td>\n",
       "      <td>8.0</td>\n",
       "      <td>ug m/3 reference equiv by VCM</td>\n",
       "      <td>P</td>\n",
       "    </tr>\n",
       "    <tr>\n",
       "      <th>2018-12-31 08:15:00</th>\n",
       "      <td>WA9</td>\n",
       "      <td>PM10</td>\n",
       "      <td>6.0</td>\n",
       "      <td>ug m/3 reference equiv by VCM</td>\n",
       "      <td>P</td>\n",
       "    </tr>\n",
       "    <tr>\n",
       "      <th>2018-12-31 08:30:00</th>\n",
       "      <td>WA9</td>\n",
       "      <td>PM10</td>\n",
       "      <td>5.0</td>\n",
       "      <td>ug m/3 reference equiv by VCM</td>\n",
       "      <td>P</td>\n",
       "    </tr>\n",
       "    <tr>\n",
       "      <th>2018-12-31 08:45:00</th>\n",
       "      <td>WA9</td>\n",
       "      <td>PM10</td>\n",
       "      <td>6.0</td>\n",
       "      <td>ug m/3 reference equiv by VCM</td>\n",
       "      <td>P</td>\n",
       "    </tr>\n",
       "  </tbody>\n",
       "</table>\n",
       "</div>"
      ],
      "text/plain": [
       "                    Site Species  Value                          Units  \\\n",
       "ReadingDateTime                                                          \n",
       "2018-12-31 07:45:00  WA9    PM10    4.0  ug m/3 reference equiv by VCM   \n",
       "2018-12-31 08:00:00  WA9    PM10    8.0  ug m/3 reference equiv by VCM   \n",
       "2018-12-31 08:15:00  WA9    PM10    6.0  ug m/3 reference equiv by VCM   \n",
       "2018-12-31 08:30:00  WA9    PM10    5.0  ug m/3 reference equiv by VCM   \n",
       "2018-12-31 08:45:00  WA9    PM10    6.0  ug m/3 reference equiv by VCM   \n",
       "\n",
       "                    Provisional or Ratified  \n",
       "ReadingDateTime                              \n",
       "2018-12-31 07:45:00                       P  \n",
       "2018-12-31 08:00:00                       P  \n",
       "2018-12-31 08:15:00                       P  \n",
       "2018-12-31 08:30:00                       P  \n",
       "2018-12-31 08:45:00                       P  "
      ]
     },
     "execution_count": 135,
     "metadata": {},
     "output_type": "execute_result"
    }
   ],
   "source": [
    "#Displays last 5 rows\n",
    "putney_data_non_working_hours1.tail()"
   ]
  },
  {
   "cell_type": "code",
   "execution_count": 136,
   "metadata": {},
   "outputs": [],
   "source": [
    "putney_data_non_working_hours2 = putney_data_timeSeries.between_time('17:10', '23:45')"
   ]
  },
  {
   "cell_type": "code",
   "execution_count": 137,
   "metadata": {},
   "outputs": [
    {
     "data": {
      "text/html": [
       "<div>\n",
       "<style scoped>\n",
       "    .dataframe tbody tr th:only-of-type {\n",
       "        vertical-align: middle;\n",
       "    }\n",
       "\n",
       "    .dataframe tbody tr th {\n",
       "        vertical-align: top;\n",
       "    }\n",
       "\n",
       "    .dataframe thead th {\n",
       "        text-align: right;\n",
       "    }\n",
       "</style>\n",
       "<table border=\"1\" class=\"dataframe\">\n",
       "  <thead>\n",
       "    <tr style=\"text-align: right;\">\n",
       "      <th></th>\n",
       "      <th>Site</th>\n",
       "      <th>Species</th>\n",
       "      <th>Value</th>\n",
       "      <th>Units</th>\n",
       "      <th>Provisional or Ratified</th>\n",
       "    </tr>\n",
       "    <tr>\n",
       "      <th>ReadingDateTime</th>\n",
       "      <th></th>\n",
       "      <th></th>\n",
       "      <th></th>\n",
       "      <th></th>\n",
       "      <th></th>\n",
       "    </tr>\n",
       "  </thead>\n",
       "  <tbody>\n",
       "    <tr>\n",
       "      <th>2018-02-08 18:30:00</th>\n",
       "      <td>WA9</td>\n",
       "      <td>NO</td>\n",
       "      <td>15.4</td>\n",
       "      <td>ug/m3</td>\n",
       "      <td>P</td>\n",
       "    </tr>\n",
       "    <tr>\n",
       "      <th>2018-02-08 18:45:00</th>\n",
       "      <td>WA9</td>\n",
       "      <td>NO</td>\n",
       "      <td>14.1</td>\n",
       "      <td>ug/m3</td>\n",
       "      <td>P</td>\n",
       "    </tr>\n",
       "    <tr>\n",
       "      <th>2018-02-08 19:00:00</th>\n",
       "      <td>WA9</td>\n",
       "      <td>NO</td>\n",
       "      <td>12.8</td>\n",
       "      <td>ug/m3</td>\n",
       "      <td>P</td>\n",
       "    </tr>\n",
       "    <tr>\n",
       "      <th>2018-02-08 19:15:00</th>\n",
       "      <td>WA9</td>\n",
       "      <td>NO</td>\n",
       "      <td>10.2</td>\n",
       "      <td>ug/m3</td>\n",
       "      <td>P</td>\n",
       "    </tr>\n",
       "    <tr>\n",
       "      <th>2018-02-08 19:30:00</th>\n",
       "      <td>WA9</td>\n",
       "      <td>NO</td>\n",
       "      <td>10.2</td>\n",
       "      <td>ug/m3</td>\n",
       "      <td>P</td>\n",
       "    </tr>\n",
       "  </tbody>\n",
       "</table>\n",
       "</div>"
      ],
      "text/plain": [
       "                    Site Species  Value  Units Provisional or Ratified\n",
       "ReadingDateTime                                                       \n",
       "2018-02-08 18:30:00  WA9      NO   15.4  ug/m3                       P\n",
       "2018-02-08 18:45:00  WA9      NO   14.1  ug/m3                       P\n",
       "2018-02-08 19:00:00  WA9      NO   12.8  ug/m3                       P\n",
       "2018-02-08 19:15:00  WA9      NO   10.2  ug/m3                       P\n",
       "2018-02-08 19:30:00  WA9      NO   10.2  ug/m3                       P"
      ]
     },
     "execution_count": 137,
     "metadata": {},
     "output_type": "execute_result"
    }
   ],
   "source": [
    "#Displays top 5 rows\n",
    "putney_data_non_working_hours2.head()"
   ]
  },
  {
   "cell_type": "code",
   "execution_count": 138,
   "metadata": {},
   "outputs": [
    {
     "data": {
      "text/html": [
       "<div>\n",
       "<style scoped>\n",
       "    .dataframe tbody tr th:only-of-type {\n",
       "        vertical-align: middle;\n",
       "    }\n",
       "\n",
       "    .dataframe tbody tr th {\n",
       "        vertical-align: top;\n",
       "    }\n",
       "\n",
       "    .dataframe thead th {\n",
       "        text-align: right;\n",
       "    }\n",
       "</style>\n",
       "<table border=\"1\" class=\"dataframe\">\n",
       "  <thead>\n",
       "    <tr style=\"text-align: right;\">\n",
       "      <th></th>\n",
       "      <th>Site</th>\n",
       "      <th>Species</th>\n",
       "      <th>Value</th>\n",
       "      <th>Units</th>\n",
       "      <th>Provisional or Ratified</th>\n",
       "    </tr>\n",
       "    <tr>\n",
       "      <th>ReadingDateTime</th>\n",
       "      <th></th>\n",
       "      <th></th>\n",
       "      <th></th>\n",
       "      <th></th>\n",
       "      <th></th>\n",
       "    </tr>\n",
       "  </thead>\n",
       "  <tbody>\n",
       "    <tr>\n",
       "      <th>2018-12-31 22:45:00</th>\n",
       "      <td>WA9</td>\n",
       "      <td>PM10</td>\n",
       "      <td>13.0</td>\n",
       "      <td>ug m/3 reference equiv by VCM</td>\n",
       "      <td>P</td>\n",
       "    </tr>\n",
       "    <tr>\n",
       "      <th>2018-12-31 23:00:00</th>\n",
       "      <td>WA9</td>\n",
       "      <td>PM10</td>\n",
       "      <td>16.0</td>\n",
       "      <td>ug m/3 reference equiv by VCM</td>\n",
       "      <td>P</td>\n",
       "    </tr>\n",
       "    <tr>\n",
       "      <th>2018-12-31 23:15:00</th>\n",
       "      <td>WA9</td>\n",
       "      <td>PM10</td>\n",
       "      <td>17.0</td>\n",
       "      <td>ug m/3 reference equiv by VCM</td>\n",
       "      <td>P</td>\n",
       "    </tr>\n",
       "    <tr>\n",
       "      <th>2018-12-31 23:30:00</th>\n",
       "      <td>WA9</td>\n",
       "      <td>PM10</td>\n",
       "      <td>18.0</td>\n",
       "      <td>ug m/3 reference equiv by VCM</td>\n",
       "      <td>P</td>\n",
       "    </tr>\n",
       "    <tr>\n",
       "      <th>2018-12-31 23:45:00</th>\n",
       "      <td>WA9</td>\n",
       "      <td>PM10</td>\n",
       "      <td>13.0</td>\n",
       "      <td>ug m/3 reference equiv by VCM</td>\n",
       "      <td>P</td>\n",
       "    </tr>\n",
       "  </tbody>\n",
       "</table>\n",
       "</div>"
      ],
      "text/plain": [
       "                    Site Species  Value                          Units  \\\n",
       "ReadingDateTime                                                          \n",
       "2018-12-31 22:45:00  WA9    PM10   13.0  ug m/3 reference equiv by VCM   \n",
       "2018-12-31 23:00:00  WA9    PM10   16.0  ug m/3 reference equiv by VCM   \n",
       "2018-12-31 23:15:00  WA9    PM10   17.0  ug m/3 reference equiv by VCM   \n",
       "2018-12-31 23:30:00  WA9    PM10   18.0  ug m/3 reference equiv by VCM   \n",
       "2018-12-31 23:45:00  WA9    PM10   13.0  ug m/3 reference equiv by VCM   \n",
       "\n",
       "                    Provisional or Ratified  \n",
       "ReadingDateTime                              \n",
       "2018-12-31 22:45:00                       P  \n",
       "2018-12-31 23:00:00                       P  \n",
       "2018-12-31 23:15:00                       P  \n",
       "2018-12-31 23:30:00                       P  \n",
       "2018-12-31 23:45:00                       P  "
      ]
     },
     "execution_count": 138,
     "metadata": {},
     "output_type": "execute_result"
    }
   ],
   "source": [
    "#Displays bottom 5 rows\n",
    "putney_data_non_working_hours2.tail()"
   ]
  },
  {
   "cell_type": "code",
   "execution_count": 139,
   "metadata": {},
   "outputs": [],
   "source": [
    "#Concatinating both the dataframe which contains only non working hours\n",
    "putney_data_final = pd.concat([putney_data_non_working_hours1, putney_data_non_working_hours2])"
   ]
  },
  {
   "cell_type": "code",
   "execution_count": 140,
   "metadata": {},
   "outputs": [
    {
     "data": {
      "text/html": [
       "<div>\n",
       "<style scoped>\n",
       "    .dataframe tbody tr th:only-of-type {\n",
       "        vertical-align: middle;\n",
       "    }\n",
       "\n",
       "    .dataframe tbody tr th {\n",
       "        vertical-align: top;\n",
       "    }\n",
       "\n",
       "    .dataframe thead th {\n",
       "        text-align: right;\n",
       "    }\n",
       "</style>\n",
       "<table border=\"1\" class=\"dataframe\">\n",
       "  <thead>\n",
       "    <tr style=\"text-align: right;\">\n",
       "      <th></th>\n",
       "      <th>Site</th>\n",
       "      <th>Species</th>\n",
       "      <th>Value</th>\n",
       "      <th>Units</th>\n",
       "      <th>Provisional or Ratified</th>\n",
       "    </tr>\n",
       "    <tr>\n",
       "      <th>ReadingDateTime</th>\n",
       "      <th></th>\n",
       "      <th></th>\n",
       "      <th></th>\n",
       "      <th></th>\n",
       "      <th></th>\n",
       "    </tr>\n",
       "  </thead>\n",
       "  <tbody>\n",
       "    <tr>\n",
       "      <th>2018-02-09 00:00:00</th>\n",
       "      <td>WA9</td>\n",
       "      <td>NO</td>\n",
       "      <td>5.1</td>\n",
       "      <td>ug/m3</td>\n",
       "      <td>P</td>\n",
       "    </tr>\n",
       "    <tr>\n",
       "      <th>2018-02-09 00:15:00</th>\n",
       "      <td>WA9</td>\n",
       "      <td>NO</td>\n",
       "      <td>3.8</td>\n",
       "      <td>ug/m3</td>\n",
       "      <td>P</td>\n",
       "    </tr>\n",
       "    <tr>\n",
       "      <th>2018-02-09 00:30:00</th>\n",
       "      <td>WA9</td>\n",
       "      <td>NO</td>\n",
       "      <td>2.6</td>\n",
       "      <td>ug/m3</td>\n",
       "      <td>P</td>\n",
       "    </tr>\n",
       "    <tr>\n",
       "      <th>2018-02-09 00:45:00</th>\n",
       "      <td>WA9</td>\n",
       "      <td>NO</td>\n",
       "      <td>2.6</td>\n",
       "      <td>ug/m3</td>\n",
       "      <td>P</td>\n",
       "    </tr>\n",
       "    <tr>\n",
       "      <th>2018-02-09 01:00:00</th>\n",
       "      <td>WA9</td>\n",
       "      <td>NO</td>\n",
       "      <td>2.6</td>\n",
       "      <td>ug/m3</td>\n",
       "      <td>P</td>\n",
       "    </tr>\n",
       "    <tr>\n",
       "      <th>2018-02-09 01:15:00</th>\n",
       "      <td>WA9</td>\n",
       "      <td>NO</td>\n",
       "      <td>2.6</td>\n",
       "      <td>ug/m3</td>\n",
       "      <td>P</td>\n",
       "    </tr>\n",
       "    <tr>\n",
       "      <th>2018-02-09 01:30:00</th>\n",
       "      <td>WA9</td>\n",
       "      <td>NO</td>\n",
       "      <td>2.6</td>\n",
       "      <td>ug/m3</td>\n",
       "      <td>P</td>\n",
       "    </tr>\n",
       "    <tr>\n",
       "      <th>2018-02-09 01:45:00</th>\n",
       "      <td>WA9</td>\n",
       "      <td>NO</td>\n",
       "      <td>1.3</td>\n",
       "      <td>ug/m3</td>\n",
       "      <td>P</td>\n",
       "    </tr>\n",
       "    <tr>\n",
       "      <th>2018-02-09 02:00:00</th>\n",
       "      <td>WA9</td>\n",
       "      <td>NO</td>\n",
       "      <td>1.3</td>\n",
       "      <td>ug/m3</td>\n",
       "      <td>P</td>\n",
       "    </tr>\n",
       "    <tr>\n",
       "      <th>2018-02-09 02:15:00</th>\n",
       "      <td>WA9</td>\n",
       "      <td>NO</td>\n",
       "      <td>1.3</td>\n",
       "      <td>ug/m3</td>\n",
       "      <td>P</td>\n",
       "    </tr>\n",
       "  </tbody>\n",
       "</table>\n",
       "</div>"
      ],
      "text/plain": [
       "                    Site Species  Value  Units Provisional or Ratified\n",
       "ReadingDateTime                                                       \n",
       "2018-02-09 00:00:00  WA9      NO    5.1  ug/m3                       P\n",
       "2018-02-09 00:15:00  WA9      NO    3.8  ug/m3                       P\n",
       "2018-02-09 00:30:00  WA9      NO    2.6  ug/m3                       P\n",
       "2018-02-09 00:45:00  WA9      NO    2.6  ug/m3                       P\n",
       "2018-02-09 01:00:00  WA9      NO    2.6  ug/m3                       P\n",
       "2018-02-09 01:15:00  WA9      NO    2.6  ug/m3                       P\n",
       "2018-02-09 01:30:00  WA9      NO    2.6  ug/m3                       P\n",
       "2018-02-09 01:45:00  WA9      NO    1.3  ug/m3                       P\n",
       "2018-02-09 02:00:00  WA9      NO    1.3  ug/m3                       P\n",
       "2018-02-09 02:15:00  WA9      NO    1.3  ug/m3                       P"
      ]
     },
     "execution_count": 140,
     "metadata": {},
     "output_type": "execute_result"
    }
   ],
   "source": [
    "putney_data_final.head(10)"
   ]
  },
  {
   "cell_type": "code",
   "execution_count": 141,
   "metadata": {},
   "outputs": [
    {
     "data": {
      "text/html": [
       "<div>\n",
       "<style scoped>\n",
       "    .dataframe tbody tr th:only-of-type {\n",
       "        vertical-align: middle;\n",
       "    }\n",
       "\n",
       "    .dataframe tbody tr th {\n",
       "        vertical-align: top;\n",
       "    }\n",
       "\n",
       "    .dataframe thead th {\n",
       "        text-align: right;\n",
       "    }\n",
       "</style>\n",
       "<table border=\"1\" class=\"dataframe\">\n",
       "  <thead>\n",
       "    <tr style=\"text-align: right;\">\n",
       "      <th></th>\n",
       "      <th>Value</th>\n",
       "    </tr>\n",
       "  </thead>\n",
       "  <tbody>\n",
       "    <tr>\n",
       "      <th>count</th>\n",
       "      <td>81271.000000</td>\n",
       "    </tr>\n",
       "    <tr>\n",
       "      <th>mean</th>\n",
       "      <td>26.170735</td>\n",
       "    </tr>\n",
       "    <tr>\n",
       "      <th>std</th>\n",
       "      <td>27.525317</td>\n",
       "    </tr>\n",
       "    <tr>\n",
       "      <th>min</th>\n",
       "      <td>-17.000000</td>\n",
       "    </tr>\n",
       "    <tr>\n",
       "      <th>25%</th>\n",
       "      <td>8.600000</td>\n",
       "    </tr>\n",
       "    <tr>\n",
       "      <th>50%</th>\n",
       "      <td>18.600000</td>\n",
       "    </tr>\n",
       "    <tr>\n",
       "      <th>75%</th>\n",
       "      <td>35.000000</td>\n",
       "    </tr>\n",
       "    <tr>\n",
       "      <th>max</th>\n",
       "      <td>462.799990</td>\n",
       "    </tr>\n",
       "  </tbody>\n",
       "</table>\n",
       "</div>"
      ],
      "text/plain": [
       "              Value\n",
       "count  81271.000000\n",
       "mean      26.170735\n",
       "std       27.525317\n",
       "min      -17.000000\n",
       "25%        8.600000\n",
       "50%       18.600000\n",
       "75%       35.000000\n",
       "max      462.799990"
      ]
     },
     "execution_count": 141,
     "metadata": {},
     "output_type": "execute_result"
    }
   ],
   "source": [
    "#This gives statistical description for values column\n",
    "putney_data_final.describe()"
   ]
  },
  {
   "cell_type": "markdown",
   "metadata": {},
   "source": [
    "if you observe the above values for oxford city, the mean value for whole month is around 26 which is quite low.Here i considered the effect of all gases irrespective of harmfulness of each gas(requires proper domain knowledge).The 75% of the data has value more than 35 AQI which is low."
   ]
  },
  {
   "cell_type": "code",
   "execution_count": 152,
   "metadata": {},
   "outputs": [
    {
     "name": "stderr",
     "output_type": "stream",
     "text": [
      "C:\\ProgramData\\Anaconda3\\lib\\site-packages\\scipy\\stats\\stats.py:1713: FutureWarning: Using a non-tuple sequence for multidimensional indexing is deprecated; use `arr[tuple(seq)]` instead of `arr[seq]`. In the future this will be interpreted as an array index, `arr[np.array(seq)]`, which will result either in an error or a different result.\n",
      "  return np.add.reduce(sorted[indexer] * weights, axis=axis) / sumval\n",
      "C:\\ProgramData\\Anaconda3\\lib\\site-packages\\numpy\\lib\\histograms.py:893: RuntimeWarning: invalid value encountered in true_divide\n",
      "  return n/db/n.sum(), bin_edges\n"
     ]
    },
    {
     "data": {
      "image/png": "[encoded data removed]",
      "text/plain": [
       "<Figure size 864x720 with 1 Axes>"
      ]
     },
     "metadata": {
      "needs_background": "light"
     },
     "output_type": "display_data"
    }
   ],
   "source": [
    "#Distribute plot of each gas. The gas NO looks to be more dominant \n",
    "\n",
    "plt.figure(figsize=(12,10))\n",
    "#plt.subplot(1,2,2)\n",
    "sns.distplot(putney_data_final[putney_data_final['Species'] == 'NO']['Value'][0:] , label = \"NO\" , color = 'red')\n",
    "sns.distplot(putney_data_final[putney_data_final['Species'] == 'NO2']['Value'][0:] , label = \"NO2\" , color = 'blue')\n",
    "sns.distplot(putney_data_final[putney_data_final['Species'] == 'NOX']['Value'] [0:], label = \"NOX\" , color = 'green')\n",
    "sns.distplot(putney_data_final[putney_data_final['Species'] == 'PM10']['Value'][0:] , label = \"PM10\" , color = 'black')\n",
    "sns.distplot(putney_data_final[putney_data_final['Species'] == 'CO']['Value'][0:] , label = \"CO\" , color = 'orange')\n",
    "plt.legend()\n",
    "\n",
    "plt.show()"
   ]
  },
  {
   "cell_type": "markdown",
   "metadata": {},
   "source": [
    "If you observe the above graph the values are distributed till 120 quite more and highest with 400"
   ]
  },
  {
   "cell_type": "markdown",
   "metadata": {},
   "source": [
    "# Finally, after looking at the above analysis it is very clear that Putney location is suitable for John Doherty based on Air quality index values"
   ]
  }
 ],
 "metadata": {
  "kernelspec": {
   "display_name": "Python 3",
   "language": "python",
   "name": "python3"
  },
  "language_info": {
   "codemirror_mode": {
    "name": "ipython",
    "version": 3
   },
   "file_extension": ".py",
   "mimetype": "text/x-python",
   "name": "python",
   "nbconvert_exporter": "python",
   "pygments_lexer": "ipython3",
   "version": "3.7.0"
  }
 },
 "nbformat": 4,
 "nbformat_minor": 2
}
